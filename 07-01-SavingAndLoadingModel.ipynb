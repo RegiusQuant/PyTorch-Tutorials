{
 "nbformat": 4,
 "nbformat_minor": 2,
 "metadata": {
  "language_info": {
   "name": "python",
   "codemirror_mode": {
    "name": "ipython",
    "version": 3
   },
   "version": "3.7.4-final"
  },
  "orig_nbformat": 2,
  "file_extension": ".py",
  "mimetype": "text/x-python",
  "name": "python",
  "npconvert_exporter": "python",
  "pygments_lexer": "ipython3",
  "version": 3,
  "kernelspec": {
   "name": "python37464bitpytorchcondaea917a68493f49dc9f111e38fe4abc5c",
   "display_name": "Python 3.7.4 64-bit ('pytorch': conda)"
  }
 },
 "cells": [
  {
   "cell_type": "markdown",
   "execution_count": null,
   "metadata": {},
   "outputs": [],
   "source": [
    "## 07-01 Saving & Loading Model"
   ]
  },
  {
   "cell_type": "code",
   "execution_count": 2,
   "metadata": {},
   "outputs": [
    {
     "data": {
      "text/plain": "'1.3.1'"
     },
     "execution_count": 2,
     "metadata": {},
     "output_type": "execute_result"
    }
   ],
   "source": [
    "import torch\n",
    "import torch.nn as nn\n",
    "\n",
    "torch.__version__"
   ]
  },
  {
   "cell_type": "code",
   "execution_count": 5,
   "metadata": {},
   "outputs": [],
   "source": [
    "class LeNet(nn.Module):\n",
    "    \n",
    "    def __init__(self, num_classes):\n",
    "        super(LeNet, self).__init__()\n",
    "        self.features = nn.Sequential(\n",
    "            nn.Conv2d(3, 6, 5),\n",
    "            nn.ReLU(),\n",
    "            nn.MaxPool2d(2, 2),\n",
    "            nn.Conv2d(6, 16, 5),\n",
    "            nn.ReLU(),\n",
    "            nn.MaxPool2d(2, 2)\n",
    "        )\n",
    "        self.classifier = nn.Sequential(\n",
    "            nn.Linear(16*5*5, 120),\n",
    "            nn.ReLU(),\n",
    "            nn.Linear(120, 84),\n",
    "            nn.ReLU(),\n",
    "            nn.Linear(84, num_classes)\n",
    "        )\n",
    "\n",
    "    def forward(self, x):\n",
    "        x = self.features(x)\n",
    "        x = x.view(x.size()[0], -1)\n",
    "        x = self.classifier(x)\n",
    "        return x\n",
    "\n",
    "    def initialize(self):\n",
    "        for p in self.parameters():\n",
    "            p.data.fill_(20191104)"
   ]
  },
  {
   "cell_type": "markdown",
   "execution_count": null,
   "metadata": {},
   "outputs": [],
   "source": [
    "### 1.保存模型"
   ]
  },
  {
   "cell_type": "code",
   "execution_count": 6,
   "metadata": {},
   "outputs": [
    {
     "name": "stdout",
     "output_type": "stream",
     "text": "Before Trainning: tensor([[[-0.0888,  0.0737, -0.0221, -0.0611,  0.0601],\n         [-0.0447,  0.0219,  0.0018, -0.0540,  0.0498],\n         [-0.0530, -0.1115,  0.0903,  0.0402, -0.0146],\n         [-0.0007,  0.1072,  0.1055,  0.1019, -0.0746],\n         [-0.0490,  0.0802, -0.0918,  0.0440, -0.0269]],\n\n        [[-0.0363, -0.0297, -0.0085,  0.1125, -0.0442],\n         [ 0.0484,  0.0098, -0.0543, -0.0170,  0.0543],\n         [-0.0083,  0.0152, -0.0430, -0.0915,  0.0251],\n         [ 0.0065, -0.0081, -0.0902, -0.0282, -0.0073],\n         [ 0.0868,  0.0351, -0.0470,  0.1121, -0.0790]],\n\n        [[ 0.0848, -0.0754, -0.0678, -0.0873,  0.0437],\n         [-0.0993,  0.0272,  0.0561, -0.0748,  0.0043],\n         [ 0.0621,  0.0574,  0.0646, -0.0346, -0.0833],\n         [-0.0536,  0.0636,  0.1033, -0.0879,  0.0219],\n         [-0.0382, -0.1112,  0.0673,  0.0421, -0.1145]]],\n       grad_fn=<SelectBackward>)\nAfter Trainning: tensor([[[20191104., 20191104., 20191104., 20191104., 20191104.],\n         [20191104., 20191104., 20191104., 20191104., 20191104.],\n         [20191104., 20191104., 20191104., 20191104., 20191104.],\n         [20191104., 20191104., 20191104., 20191104., 20191104.],\n         [20191104., 20191104., 20191104., 20191104., 20191104.]],\n\n        [[20191104., 20191104., 20191104., 20191104., 20191104.],\n         [20191104., 20191104., 20191104., 20191104., 20191104.],\n         [20191104., 20191104., 20191104., 20191104., 20191104.],\n         [20191104., 20191104., 20191104., 20191104., 20191104.],\n         [20191104., 20191104., 20191104., 20191104., 20191104.]],\n\n        [[20191104., 20191104., 20191104., 20191104., 20191104.],\n         [20191104., 20191104., 20191104., 20191104., 20191104.],\n         [20191104., 20191104., 20191104., 20191104., 20191104.],\n         [20191104., 20191104., 20191104., 20191104., 20191104.],\n         [20191104., 20191104., 20191104., 20191104., 20191104.]]],\n       grad_fn=<SelectBackward>)\n"
    }
   ],
   "source": [
    "net = LeNet(num_classes=200)\n",
    "\n",
    "print('Before Trainning:', net.features[0].weight[0, ...])\n",
    "net.initialize()\n",
    "print('After Trainning:', net.features[0].weight[0, ...])"
   ]
  },
  {
   "cell_type": "code",
   "execution_count": 8,
   "metadata": {},
   "outputs": [
    {
     "name": "stderr",
     "output_type": "stream",
     "text": "/home/bnu/anaconda3/envs/pytorch/lib/python3.7/site-packages/torch/serialization.py:292: UserWarning: Couldn't retrieve source code for container of type LeNet. It won't be checked for correctness upon loading.\n  \"type \" + obj.__name__ + \". It won't be checked \"\n/home/bnu/anaconda3/envs/pytorch/lib/python3.7/site-packages/torch/serialization.py:292: UserWarning: Couldn't retrieve source code for container of type Sequential. It won't be checked for correctness upon loading.\n  \"type \" + obj.__name__ + \". It won't be checked \"\n/home/bnu/anaconda3/envs/pytorch/lib/python3.7/site-packages/torch/serialization.py:292: UserWarning: Couldn't retrieve source code for container of type Conv2d. It won't be checked for correctness upon loading.\n  \"type \" + obj.__name__ + \". It won't be checked \"\n/home/bnu/anaconda3/envs/pytorch/lib/python3.7/site-packages/torch/serialization.py:292: UserWarning: Couldn't retrieve source code for container of type ReLU. It won't be checked for correctness upon loading.\n  \"type \" + obj.__name__ + \". It won't be checked \"\n/home/bnu/anaconda3/envs/pytorch/lib/python3.7/site-packages/torch/serialization.py:292: UserWarning: Couldn't retrieve source code for container of type MaxPool2d. It won't be checked for correctness upon loading.\n  \"type \" + obj.__name__ + \". It won't be checked \"\n/home/bnu/anaconda3/envs/pytorch/lib/python3.7/site-packages/torch/serialization.py:292: UserWarning: Couldn't retrieve source code for container of type Linear. It won't be checked for correctness upon loading.\n  \"type \" + obj.__name__ + \". It won't be checked \"\n"
    }
   ],
   "source": [
    "path_model = './temp/model.pkl'\n",
    "path_state_dict = './temp/model_state_dict.pkl'\n",
    "torch.save(net, path_model)\n",
    "torch.save(net.state_dict(), path_state_dict)"
   ]
  },
  {
   "cell_type": "markdown",
   "execution_count": null,
   "metadata": {},
   "outputs": [],
   "source": [
    "### 2.加载模型"
   ]
  },
  {
   "cell_type": "code",
   "execution_count": 9,
   "metadata": {},
   "outputs": [
    {
     "name": "stdout",
     "output_type": "stream",
     "text": "LeNet(\n  (features): Sequential(\n    (0): Conv2d(3, 6, kernel_size=(5, 5), stride=(1, 1))\n    (1): ReLU()\n    (2): MaxPool2d(kernel_size=2, stride=2, padding=0, dilation=1, ceil_mode=False)\n    (3): Conv2d(6, 16, kernel_size=(5, 5), stride=(1, 1))\n    (4): ReLU()\n    (5): MaxPool2d(kernel_size=2, stride=2, padding=0, dilation=1, ceil_mode=False)\n  )\n  (classifier): Sequential(\n    (0): Linear(in_features=400, out_features=120, bias=True)\n    (1): ReLU()\n    (2): Linear(in_features=120, out_features=84, bias=True)\n    (3): ReLU()\n    (4): Linear(in_features=84, out_features=200, bias=True)\n  )\n)\n"
    }
   ],
   "source": [
    "net = torch.load(path_model)\n",
    "print(net)"
   ]
  },
  {
   "cell_type": "code",
   "execution_count": 10,
   "metadata": {},
   "outputs": [
    {
     "name": "stdout",
     "output_type": "stream",
     "text": "odict_keys(['features.0.weight', 'features.0.bias', 'features.3.weight', 'features.3.bias', 'classifier.0.weight', 'classifier.0.bias', 'classifier.2.weight', 'classifier.2.bias', 'classifier.4.weight', 'classifier.4.bias'])\n"
    }
   ],
   "source": [
    "state_dict = torch.load(path_state_dict)\n",
    "print(state_dict.keys())"
   ]
  },
  {
   "cell_type": "code",
   "execution_count": 11,
   "metadata": {},
   "outputs": [
    {
     "name": "stdout",
     "output_type": "stream",
     "text": "Before Loading: tensor([[[-0.0361, -0.0369,  0.0565, -0.0241,  0.0591],\n         [-0.1062,  0.0843, -0.0031, -0.0889, -0.1040],\n         [-0.0472, -0.0775, -0.0517,  0.0083,  0.0519],\n         [ 0.0376,  0.1051,  0.0948,  0.0293,  0.0558],\n         [-0.0694, -0.0490,  0.0986, -0.0432, -0.0935]],\n\n        [[-0.0079, -0.0897, -0.0797,  0.0515,  0.1136],\n         [-0.0969, -0.0092, -0.1059,  0.0838, -0.1033],\n         [-0.0564, -0.0876,  0.0887,  0.0669, -0.1050],\n         [-0.0883, -0.0710,  0.0802, -0.0171,  0.0200],\n         [ 0.0998,  0.0857, -0.0364,  0.0783,  0.0293]],\n\n        [[ 0.0908, -0.0515, -0.0056,  0.0076,  0.0227],\n         [ 0.0900,  0.1048, -0.1031, -0.0503, -0.1069],\n         [-0.0400, -0.0455,  0.0687,  0.0183, -0.0550],\n         [ 0.0372, -0.0621,  0.0292,  0.0441,  0.0482],\n         [ 0.0255,  0.0683,  0.0264, -0.0997,  0.0182]]],\n       grad_fn=<SelectBackward>)\nAfter Loading: tensor([[[20191104., 20191104., 20191104., 20191104., 20191104.],\n         [20191104., 20191104., 20191104., 20191104., 20191104.],\n         [20191104., 20191104., 20191104., 20191104., 20191104.],\n         [20191104., 20191104., 20191104., 20191104., 20191104.],\n         [20191104., 20191104., 20191104., 20191104., 20191104.]],\n\n        [[20191104., 20191104., 20191104., 20191104., 20191104.],\n         [20191104., 20191104., 20191104., 20191104., 20191104.],\n         [20191104., 20191104., 20191104., 20191104., 20191104.],\n         [20191104., 20191104., 20191104., 20191104., 20191104.],\n         [20191104., 20191104., 20191104., 20191104., 20191104.]],\n\n        [[20191104., 20191104., 20191104., 20191104., 20191104.],\n         [20191104., 20191104., 20191104., 20191104., 20191104.],\n         [20191104., 20191104., 20191104., 20191104., 20191104.],\n         [20191104., 20191104., 20191104., 20191104., 20191104.],\n         [20191104., 20191104., 20191104., 20191104., 20191104.]]],\n       grad_fn=<SelectBackward>)\n"
    }
   ],
   "source": [
    "net = LeNet(num_classes=200)\n",
    "\n",
    "print('Before Loading:', net.features[0].weight[0, ...])\n",
    "net.load_state_dict(state_dict)\n",
    "print('After Loading:', net.features[0].weight[0, ...])"
   ]
  },
  {
   "cell_type": "code",
   "execution_count": null,
   "metadata": {},
   "outputs": [],
   "source": []
  }
 ]
}