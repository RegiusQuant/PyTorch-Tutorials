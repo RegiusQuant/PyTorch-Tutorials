{
 "nbformat": 4,
 "nbformat_minor": 2,
 "metadata": {
  "language_info": {
   "name": "python",
   "codemirror_mode": {
    "name": "ipython",
    "version": 3
   }
  },
  "orig_nbformat": 2,
  "file_extension": ".py",
  "mimetype": "text/x-python",
  "name": "python",
  "npconvert_exporter": "python",
  "pygments_lexer": "ipython3",
  "version": 3
 },
 "cells": [
  {
   "cell_type": "markdown",
   "execution_count": 1,
   "metadata": {},
   "outputs": [
    {
     "data": {
      "text/plain": "'1.3.0'"
     },
     "execution_count": 1,
     "metadata": {},
     "output_type": "execute_result"
    }
   ],
   "source": [
    "## 03-02 Module Containers"
   ]
  },
  {
   "cell_type": "code",
   "execution_count": 6,
   "metadata": {},
   "outputs": [
    {
     "data": {
      "text/plain": "'1.3.0'"
     },
     "execution_count": 6,
     "metadata": {},
     "output_type": "execute_result"
    }
   ],
   "source": [
    "from collections import OrderedDict\n",
    "\n",
    "import torch\n",
    "import torch.nn as nn\n",
    "import torchvision\n",
    "\n",
    "torch.manual_seed(0)\n",
    "torch.__version__"
   ]
  },
  {
   "cell_type": "markdown",
   "execution_count": null,
   "metadata": {},
   "outputs": [],
   "source": [
    "### 1.按顺序包装多个网络层Sequential"
   ]
  },
  {
   "cell_type": "code",
   "execution_count": 2,
   "metadata": {},
   "outputs": [
    {
     "name": "stdout",
     "output_type": "stream",
     "text": "LeNet(\n  (features): Sequential(\n    (0): Conv2d(3, 6, kernel_size=(5, 5), stride=(1, 1))\n    (1): ReLU()\n    (2): MaxPool2d(kernel_size=2, stride=2, padding=0, dilation=1, ceil_mode=False)\n    (3): Conv2d(6, 16, kernel_size=(5, 5), stride=(1, 1))\n    (4): ReLU()\n    (5): MaxPool2d(kernel_size=2, stride=2, padding=0, dilation=1, ceil_mode=False)\n  )\n  (classifier): Sequential(\n    (0): Linear(in_features=400, out_features=120, bias=True)\n    (1): ReLU()\n    (2): Linear(in_features=120, out_features=84, bias=True)\n    (3): ReLU()\n    (4): Linear(in_features=84, out_features=2, bias=True)\n  )\n)\ntorch.Size([4, 2])\n"
    }
   ],
   "source": [
    "class LeNet(nn.Module):\n",
    "    \n",
    "    def __init__(self, num_classes):\n",
    "        super(LeNet, self).__init__()\n",
    "        self.features = nn.Sequential(\n",
    "            nn.Conv2d(3, 6, 5),\n",
    "            nn.ReLU(),\n",
    "            nn.MaxPool2d(kernel_size=2, stride=2),\n",
    "            nn.Conv2d(6, 16, 5),\n",
    "            nn.ReLU(),\n",
    "            nn.MaxPool2d(kernel_size=2, stride=2)\n",
    "        )\n",
    "\n",
    "        self.classifier = nn.Sequential(\n",
    "            nn.Linear(16 * 5 * 5, 120),\n",
    "            nn.ReLU(),\n",
    "            nn.Linear(120, 84),\n",
    "            nn.ReLU(),\n",
    "            nn.Linear(84, num_classes)\n",
    "        )\n",
    "\n",
    "    def forward(self, x):\n",
    "        x = self.features(x)\n",
    "        x = x.view(x.size(0), -1)\n",
    "        x = self.classifier(x)\n",
    "        return x\n",
    "\n",
    "inputs = torch.randn((4, 3, 32, 32), dtype=torch.float32)\n",
    "model = LeNet(num_classes=2)\n",
    "outputs = model(inputs)\n",
    "print(model)\n",
    "print(outputs.shape)"
   ]
  },
  {
   "cell_type": "code",
   "execution_count": 3,
   "metadata": {},
   "outputs": [
    {
     "name": "stdout",
     "output_type": "stream",
     "text": "LeNet(\n  (features): Sequential(\n    (conv1): Conv2d(3, 6, kernel_size=(5, 5), stride=(1, 1))\n    (relu1): ReLU(inplace=True)\n    (pool1): MaxPool2d(kernel_size=2, stride=2, padding=0, dilation=1, ceil_mode=False)\n    (conv2): Conv2d(6, 16, kernel_size=(5, 5), stride=(1, 1))\n    (relu2): ReLU(inplace=True)\n    (pool2): MaxPool2d(kernel_size=2, stride=2, padding=0, dilation=1, ceil_mode=False)\n  )\n  (classifier): Sequential(\n    (fc1): Linear(in_features=400, out_features=120, bias=True)\n    (relu3): ReLU(inplace=True)\n    (fc2): Linear(in_features=120, out_features=84, bias=True)\n    (relu4): ReLU(inplace=True)\n    (fc3): Linear(in_features=84, out_features=2, bias=True)\n  )\n)\nConv2d(3, 6, kernel_size=(5, 5), stride=(1, 1))\ntorch.Size([4, 2])\n"
    }
   ],
   "source": [
    "class LeNet(nn.Module):\n",
    "\n",
    "    def __init__(self, num_classes):\n",
    "        super(LeNet, self).__init__()\n",
    "        \n",
    "        self.features = nn.Sequential(OrderedDict({\n",
    "            'conv1': nn.Conv2d(3, 6, 5),\n",
    "            'relu1': nn.ReLU(inplace=True),\n",
    "            'pool1': nn.MaxPool2d(kernel_size=2, stride=2),\n",
    "\n",
    "            'conv2': nn.Conv2d(6, 16, 5),\n",
    "            'relu2': nn.ReLU(inplace=True),\n",
    "            'pool2': nn.MaxPool2d(kernel_size=2, stride=2),\n",
    "        }))\n",
    "\n",
    "        self.classifier = nn.Sequential(OrderedDict({\n",
    "            'fc1': nn.Linear(16 * 5 * 5, 120),\n",
    "            'relu3': nn.ReLU(inplace=True),\n",
    "\n",
    "            'fc2': nn.Linear(120, 84),\n",
    "            'relu4': nn.ReLU(inplace=True),\n",
    "\n",
    "            'fc3': nn.Linear(84, num_classes),\n",
    "        }))\n",
    "\n",
    "    def forward(self, x):\n",
    "        x = self.features(x)\n",
    "        x = x.view(x.size(0), -1)\n",
    "        x = self.classifier(x)\n",
    "        return x\n",
    "\n",
    "inputs = torch.randn((4, 3, 32, 32), dtype=torch.float32)\n",
    "model = LeNet(num_classes=2)\n",
    "outputs = model(inputs)\n",
    "print(model)\n",
    "print(model.features.conv1)\n",
    "print(outputs.shape)"
   ]
  },
  {
   "cell_type": "markdown",
   "execution_count": null,
   "metadata": {},
   "outputs": [],
   "source": [
    "### 2.以迭代方式调用网络层ModuleList"
   ]
  },
  {
   "cell_type": "code",
   "execution_count": 4,
   "metadata": {},
   "outputs": [
    {
     "name": "stdout",
     "output_type": "stream",
     "text": "TestModule(\n  (linears): ModuleList(\n    (0): Linear(in_features=10, out_features=10, bias=True)\n    (1): Linear(in_features=10, out_features=10, bias=True)\n    (2): Linear(in_features=10, out_features=10, bias=True)\n    (3): Linear(in_features=10, out_features=10, bias=True)\n    (4): Linear(in_features=10, out_features=10, bias=True)\n  )\n)\ntorch.Size([10, 10])\n"
    }
   ],
   "source": [
    "class TestModule(nn.Module):\n",
    "    def __init__(self):\n",
    "        super(TestModule, self).__init__()\n",
    "        self.linears = nn.ModuleList([nn.Linear(10, 10) for i in range(5)])\n",
    "    \n",
    "    def forward(self, x):\n",
    "        for i, linear in enumerate(self.linears):\n",
    "            x = linear(x)\n",
    "        return x\n",
    "\n",
    "inputs = torch.ones((10, 10))\n",
    "model = TestModule()\n",
    "outputs = model(inputs)\n",
    "print(model)\n",
    "print(outputs.shape)"
   ]
  },
  {
   "cell_type": "markdown",
   "execution_count": null,
   "metadata": {},
   "outputs": [],
   "source": [
    "### 3.以索引方式调用网络层ModuleDict"
   ]
  },
  {
   "cell_type": "code",
   "execution_count": 5,
   "metadata": {},
   "outputs": [
    {
     "name": "stdout",
     "output_type": "stream",
     "text": "TestModule(\n  (choices): ModuleDict(\n    (conv): Conv2d(10, 10, kernel_size=(3, 3), stride=(1, 1))\n    (pool): MaxPool2d(kernel_size=3, stride=3, padding=0, dilation=1, ceil_mode=False)\n  )\n  (activations): ModuleDict(\n    (prelu): PReLU(num_parameters=1)\n    (relu): ReLU()\n  )\n)\ntorch.Size([4, 10, 30, 30])\n"
    }
   ],
   "source": [
    "class TestModule(nn.Module):\n",
    "    def __init__(self):\n",
    "        super(TestModule, self).__init__()\n",
    "        self.choices = nn.ModuleDict({\n",
    "            'conv': nn.Conv2d(10, 10, 3),\n",
    "            'pool': nn.MaxPool2d(3)\n",
    "        })\n",
    "        self.activations = nn.ModuleDict({\n",
    "            'relu': nn.ReLU(),\n",
    "            'prelu': nn.PReLU()\n",
    "        })\n",
    "\n",
    "    def forward(self, x, choice, act):\n",
    "        x = self.choices[choice](x)\n",
    "        x = self.activations[act](x)\n",
    "        return x\n",
    "\n",
    "inputs = torch.randn((4, 10, 32, 32))\n",
    "model = TestModule()\n",
    "outputs = model(inputs, 'conv', 'relu')\n",
    "print(model)\n",
    "print(outputs.shape)"
   ]
  },
  {
   "cell_type": "markdown",
   "execution_count": null,
   "metadata": {},
   "outputs": [],
   "source": [
    "### 4.AlexNet"
   ]
  },
  {
   "cell_type": "code",
   "execution_count": 7,
   "metadata": {},
   "outputs": [
    {
     "data": {
      "text/plain": "AlexNet(\n  (features): Sequential(\n    (0): Conv2d(3, 64, kernel_size=(11, 11), stride=(4, 4), padding=(2, 2))\n    (1): ReLU(inplace=True)\n    (2): MaxPool2d(kernel_size=3, stride=2, padding=0, dilation=1, ceil_mode=False)\n    (3): Conv2d(64, 192, kernel_size=(5, 5), stride=(1, 1), padding=(2, 2))\n    (4): ReLU(inplace=True)\n    (5): MaxPool2d(kernel_size=3, stride=2, padding=0, dilation=1, ceil_mode=False)\n    (6): Conv2d(192, 384, kernel_size=(3, 3), stride=(1, 1), padding=(1, 1))\n    (7): ReLU(inplace=True)\n    (8): Conv2d(384, 256, kernel_size=(3, 3), stride=(1, 1), padding=(1, 1))\n    (9): ReLU(inplace=True)\n    (10): Conv2d(256, 256, kernel_size=(3, 3), stride=(1, 1), padding=(1, 1))\n    (11): ReLU(inplace=True)\n    (12): MaxPool2d(kernel_size=3, stride=2, padding=0, dilation=1, ceil_mode=False)\n  )\n  (avgpool): AdaptiveAvgPool2d(output_size=(6, 6))\n  (classifier): Sequential(\n    (0): Dropout(p=0.5, inplace=False)\n    (1): Linear(in_features=9216, out_features=4096, bias=True)\n    (2): ReLU(inplace=True)\n    (3): Dropout(p=0.5, inplace=False)\n    (4): Linear(in_features=4096, out_features=4096, bias=True)\n    (5): ReLU(inplace=True)\n    (6): Linear(in_features=4096, out_features=1000, bias=True)\n  )\n)"
     },
     "execution_count": 7,
     "metadata": {},
     "output_type": "execute_result"
    }
   ],
   "source": [
    "model = torchvision.models.AlexNet()\n",
    "model"
   ]
  },
  {
   "cell_type": "code",
   "execution_count": null,
   "metadata": {},
   "outputs": [],
   "source": []
  }
 ]
}