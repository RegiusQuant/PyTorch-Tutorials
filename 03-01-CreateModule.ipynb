{
 "nbformat": 4,
 "nbformat_minor": 2,
 "metadata": {
  "language_info": {
   "name": "python",
   "codemirror_mode": {
    "name": "ipython",
    "version": 3
   }
  },
  "orig_nbformat": 2,
  "file_extension": ".py",
  "mimetype": "text/x-python",
  "name": "python",
  "npconvert_exporter": "python",
  "pygments_lexer": "ipython3",
  "version": 3
 },
 "cells": [
  {
   "cell_type": "markdown",
   "execution_count": null,
   "metadata": {},
   "outputs": [],
   "source": [
    "## 03-01 Create Module"
   ]
  },
  {
   "cell_type": "code",
   "execution_count": 20,
   "metadata": {},
   "outputs": [
    {
     "data": {
      "text/plain": "'1.3.0'"
     },
     "execution_count": 20,
     "metadata": {},
     "output_type": "execute_result"
    }
   ],
   "source": [
    "import os\n",
    "from pathlib import Path\n",
    "\n",
    "import torch\n",
    "import torch.nn as nn\n",
    "import torch.nn.functional as F\n",
    "import torchvision.transforms as transforms\n",
    "from torch.utils.data import Dataset, DataLoader\n",
    "from PIL import Image\n",
    "\n",
    "torch.manual_seed(0)\n",
    "torch.__version__"
   ]
  },
  {
   "cell_type": "markdown",
   "execution_count": null,
   "metadata": {},
   "outputs": [],
   "source": [
    "### 1.构建Dataset和DataLoader"
   ]
  },
  {
   "cell_type": "code",
   "execution_count": 16,
   "metadata": {},
   "outputs": [],
   "source": [
    "# 定义文件路径\n",
    "rmb_data_path = Path('/media/bnu/file/datasets/pytorch-tutorials/rmb_data')\n",
    "train_path = rmb_data_path / 'split_data' / 'train'\n",
    "\n",
    "class RMBDataset(Dataset):\n",
    "    \n",
    "    def __init__(self, image_path, transform=None):\n",
    "        self.label_dict = {'1': 0, '100': 1}\n",
    "        self.transform = transform\n",
    "\n",
    "        self.image_data = []\n",
    "        for root, dirs, files in os.walk(image_path):\n",
    "            for sub_dir in dirs:\n",
    "                # 获取目录下所有图片列表\n",
    "                image_file_list = os.listdir(image_path / sub_dir)\n",
    "                image_file_list = list(filter(lambda x: x.endswith('.jpg'), image_file_list))\n",
    "\n",
    "                # 保存每个图片的路径和标签\n",
    "                for i in range(len(image_file_list)):\n",
    "                    image_name = image_file_list[i]\n",
    "                    file_path = image_path / sub_dir / image_name\n",
    "                    label = self.label_dict[sub_dir]\n",
    "                    self.image_data.append((file_path, label))\n",
    "\n",
    "    def __getitem__(self, index):\n",
    "        file_path, label = self.image_data[index]\n",
    "        image = Image.open(file_path).convert('RGB')  # 数据范围0-255\n",
    "        \n",
    "        # 对图片进行transform\n",
    "        if self.transform is not None:\n",
    "            image = self.transform(image)\n",
    "        \n",
    "        return image, label\n",
    "\n",
    "    def __len__(self):\n",
    "        return len(self.image_data)"
   ]
  },
  {
   "cell_type": "code",
   "execution_count": 18,
   "metadata": {},
   "outputs": [
    {
     "name": "stdout",
     "output_type": "stream",
     "text": "Batch Shape:  torch.Size([16, 3, 32, 32]) Labels Shape: torch.Size([16])\n"
    }
   ],
   "source": [
    "# 标准化三通道的均值和标准差\n",
    "norm_mean = [0.485, 0.456, 0.406]\n",
    "norm_std = [0.229, 0.224, 0.225]\n",
    "\n",
    "train_transform = transforms.Compose([\n",
    "    transforms.Resize((32, 32)),\n",
    "    transforms.RandomCrop(32, padding=4),\n",
    "    transforms.ToTensor(),\n",
    "    transforms.Normalize(norm_mean, norm_std)\n",
    "])\n",
    "\n",
    "# 构建Dataset实例\n",
    "train_dataset = RMBDataset(image_path=train_path, transform=train_transform)\n",
    "\n",
    "# 构建DataLoader\n",
    "train_loader = DataLoader(dataset=train_dataset, batch_size=16, shuffle=True)\n",
    "\n",
    "for i, (inputs, labels) in enumerate(train_loader):\n",
    "    print('Batch Shape: ', inputs.shape, 'Labels Shape:', labels.shape)\n",
    "    break"
   ]
  },
  {
   "cell_type": "markdown",
   "execution_count": null,
   "metadata": {},
   "outputs": [],
   "source": [
    "### 2.网络模型构建"
   ]
  },
  {
   "cell_type": "code",
   "execution_count": 21,
   "metadata": {},
   "outputs": [],
   "source": [
    "class LeNet(nn.Module):\n",
    "    \n",
    "    def __init__(self, num_classes):\n",
    "        super(LeNet, self).__init__()\n",
    "        self.conv1 = nn.Conv2d(3, 6, 5)\n",
    "        self.conv2 = nn.Conv2d(6, 16, 5)\n",
    "        self.fc1 = nn.Linear(16 * 5 * 5, 120)\n",
    "        self.fc2 = nn.Linear(120, 64)\n",
    "        self.fc3 = nn.Linear(64, num_classes)\n",
    "\n",
    "    def forward(self, x):\n",
    "        x = F.relu(self.conv1(x))\n",
    "        x = F.max_pool2d(x, 2)\n",
    "        x = F.relu(self.conv2(x))\n",
    "        x = F.max_pool2d(x, 2)\n",
    "        x = x.view(x.size(0), -1)\n",
    "        x = F.relu(self.fc1(x))\n",
    "        x = F.relu(self.fc2(x))\n",
    "        return self.fc3(x)"
   ]
  },
  {
   "cell_type": "code",
   "execution_count": 24,
   "metadata": {},
   "outputs": [
    {
     "name": "stdout",
     "output_type": "stream",
     "text": "Batch Shape:  torch.Size([16, 3, 32, 32]) Labels Shape: torch.Size([16])\nOutputs Shape: torch.Size([16, 2])\n"
    }
   ],
   "source": [
    "model = LeNet(num_classes=2)\n",
    "\n",
    "for i, (inputs, labels) in enumerate(train_loader):\n",
    "    print('Batch Shape: ', inputs.shape, 'Labels Shape:', labels.shape)\n",
    "    outputs = model(inputs)\n",
    "    print('Outputs Shape:', outputs.shape)\n",
    "    break "
   ]
  },
  {
   "cell_type": "code",
   "execution_count": null,
   "metadata": {},
   "outputs": [],
   "source": []
  }
 ]
}